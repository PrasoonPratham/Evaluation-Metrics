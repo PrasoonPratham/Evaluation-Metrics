{
 "cells": [
  {
   "cell_type": "code",
   "execution_count": 4,
   "metadata": {},
   "outputs": [],
   "source": [
    "import pandas as pd\r\n",
    "import numpy as np"
   ]
  },
  {
   "cell_type": "code",
   "execution_count": 7,
   "metadata": {},
   "outputs": [],
   "source": [
    "df = pd.read_csv(\"https://raw.githubusercontent.com/PacktPublishing/Python-Data-Analysis-Third-Edition/master/Chapter11/diabetes.csv\")"
   ]
  },
  {
   "cell_type": "code",
   "execution_count": 8,
   "metadata": {},
   "outputs": [],
   "source": [
    "feature_set = ['pregnant', 'insulin', 'bmi','age','glucose','bp','pedigree']\r\n",
    "\r\n",
    "features = df[feature_set]\r\n",
    "target = df.label"
   ]
  },
  {
   "cell_type": "code",
   "execution_count": 10,
   "metadata": {},
   "outputs": [],
   "source": [
    "# partition data into training and testing set\r\n",
    "from sklearn.model_selection import train_test_split\r\n",
    "feature_train, feature_test, target_train, target_test = train_test_split(features, target, test_size=0.3, random_state=1)\r\n"
   ]
  },
  {
   "cell_type": "code",
   "execution_count": 11,
   "metadata": {},
   "outputs": [
    {
     "name": "stdout",
     "output_type": "stream",
     "text": [
      "Davies-Bouldin Index: 0.7916877512521092\n",
      "Silhouette Coefficient: 0.5365443098840619\n",
      "Adjusted Rand Score: 0.03789319261940486\n",
      "Jaccard Score: 0.22321428571428573\n",
      "F-Measure(F1-Score): 0.36496350364963503\n",
      "Fowlkes Mallows Score: 0.6041244457314743\n"
     ]
    }
   ],
   "source": [
    "# Import K-means Clustering\r\n",
    "from sklearn.cluster import KMeans\r\n",
    "from sklearn.metrics import fowlkes_mallows_score\r\n",
    "\r\n",
    "# Specify the number of clusters\r\n",
    "num_clusters = 2\r\n",
    "\r\n",
    "# Create and fit the KMeans model\r\n",
    "km = KMeans(n_clusters=num_clusters)\r\n",
    "km.fit(feature_train)\r\n",
    "\r\n",
    "# Predict the target variable\r\n",
    "predictions = km.predict(feature_test)\r\n",
    "\r\n",
    "# Calculate internal performance evaluation measures\r\n",
    "print(\"Fowlkes Mallows Score:\", fowlkes_mallows_score(target_test,\r\n",
    "predictions))"
   ]
  }
 ],
 "metadata": {
  "interpreter": {
   "hash": "d5a5503ee387615641d7a4a93854ed490d580d7c63f5b4674f909ab8da538278"
  },
  "kernelspec": {
   "display_name": "Python 3.7.10 64-bit ('tf': conda)",
   "name": "python3"
  },
  "language_info": {
   "codemirror_mode": {
    "name": "ipython",
    "version": 3
   },
   "file_extension": ".py",
   "mimetype": "text/x-python",
   "name": "python",
   "nbconvert_exporter": "python",
   "pygments_lexer": "ipython3",
   "version": "3.7.10"
  },
  "widgets": {
   "application/vnd.jupyter.widget-state+json": {
    "state": {},
    "version_major": 2,
    "version_minor": 0
   }
  }
 },
 "nbformat": 4,
 "nbformat_minor": 4
}